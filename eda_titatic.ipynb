{
  "nbformat": 4,
  "nbformat_minor": 0,
  "metadata": {
    "colab": {
      "provenance": [],
      "authorship_tag": "ABX9TyOHtdHef9DMEk3JcGs4isCj",
      "include_colab_link": true
    },
    "kernelspec": {
      "name": "python3",
      "display_name": "Python 3"
    },
    "language_info": {
      "name": "python"
    }
  },
  "cells": [
    {
      "cell_type": "markdown",
      "metadata": {
        "id": "view-in-github",
        "colab_type": "text"
      },
      "source": [
        "<a href=\"https://colab.research.google.com/github/gwillig/medium_article/blob/main/eda_titatic.ipynb\" target=\"_parent\"><img src=\"https://colab.research.google.com/assets/colab-badge.svg\" alt=\"Open In Colab\"/></a>"
      ]
    },
    {
      "cell_type": "code",
      "execution_count": 20,
      "metadata": {
        "colab": {
          "base_uri": "https://localhost:8080/",
          "height": 1000
        },
        "id": "DXxT5CdlvY90",
        "outputId": "e8105aba-c107-4ce7-ef90-9ae899049ec6"
      },
      "outputs": [
        {
          "output_type": "stream",
          "name": "stdout",
          "text": [
            "Requirement already satisfied: dtale in /usr/local/lib/python3.10/dist-packages (3.7.0)\n",
            "Requirement already satisfied: dash-colorscales in /usr/local/lib/python3.10/dist-packages (from dtale) (0.0.4)\n",
            "Requirement already satisfied: dash-daq in /usr/local/lib/python3.10/dist-packages (from dtale) (0.5.0)\n",
            "Requirement already satisfied: Flask-Compress in /usr/local/lib/python3.10/dist-packages (from dtale) (1.14)\n",
            "Requirement already satisfied: future>=0.14.0 in /usr/local/lib/python3.10/dist-packages (from dtale) (0.18.3)\n",
            "Requirement already satisfied: kaleido in /usr/local/lib/python3.10/dist-packages (from dtale) (0.2.1)\n",
            "Requirement already satisfied: missingno in /usr/local/lib/python3.10/dist-packages (from dtale) (0.5.2)\n",
            "Requirement already satisfied: pandas in /usr/local/lib/python3.10/dist-packages (from dtale) (1.5.3)\n",
            "Requirement already satisfied: squarify in /usr/local/lib/python3.10/dist-packages (from dtale) (0.4.3)\n",
            "Requirement already satisfied: strsimpy in /usr/local/lib/python3.10/dist-packages (from dtale) (0.2.1)\n",
            "Requirement already satisfied: six in /usr/local/lib/python3.10/dist-packages (from dtale) (1.16.0)\n",
            "Requirement already satisfied: xlrd in /usr/local/lib/python3.10/dist-packages (from dtale) (2.0.1)\n",
            "Requirement already satisfied: beautifulsoup4 in /usr/local/lib/python3.10/dist-packages (from dtale) (4.11.2)\n",
            "Requirement already satisfied: certifi in /usr/local/lib/python3.10/dist-packages (from dtale) (2023.7.22)\n",
            "Requirement already satisfied: flask-ngrok in /usr/local/lib/python3.10/dist-packages (from dtale) (0.0.25)\n",
            "Requirement already satisfied: lz4 in /usr/local/lib/python3.10/dist-packages (from dtale) (4.3.2)\n",
            "Requirement already satisfied: cycler in /usr/local/lib/python3.10/dist-packages (from dtale) (0.12.1)\n",
            "Requirement already satisfied: dash-bootstrap-components<=1.3.1 in /usr/local/lib/python3.10/dist-packages (from dtale) (1.3.1)\n",
            "Requirement already satisfied: networkx in /usr/local/lib/python3.10/dist-packages (from dtale) (3.2.1)\n",
            "Requirement already satisfied: scikit-learn in /usr/local/lib/python3.10/dist-packages (from dtale) (1.2.2)\n",
            "Requirement already satisfied: seaborn in /usr/local/lib/python3.10/dist-packages (from dtale) (0.12.2)\n",
            "Requirement already satisfied: statsmodels in /usr/local/lib/python3.10/dist-packages (from dtale) (0.14.0)\n",
            "Requirement already satisfied: numpy in /usr/local/lib/python3.10/dist-packages (from dtale) (1.23.5)\n",
            "Requirement already satisfied: openpyxl!=3.2.0b1 in /usr/local/lib/python3.10/dist-packages (from dtale) (3.1.2)\n",
            "Requirement already satisfied: xarray in /usr/local/lib/python3.10/dist-packages (from dtale) (2023.7.0)\n",
            "Requirement already satisfied: dash in /usr/local/lib/python3.10/dist-packages (from dtale) (2.14.1)\n",
            "Requirement already satisfied: et-xmlfile in /usr/local/lib/python3.10/dist-packages (from dtale) (1.1.0)\n",
            "Requirement already satisfied: plotly in /usr/local/lib/python3.10/dist-packages (from dtale) (5.15.0)\n",
            "Requirement already satisfied: Flask<2.3 in /usr/local/lib/python3.10/dist-packages (from dtale) (2.2.5)\n",
            "Requirement already satisfied: itsdangerous in /usr/local/lib/python3.10/dist-packages (from dtale) (2.1.2)\n",
            "Requirement already satisfied: requests in /usr/local/lib/python3.10/dist-packages (from dtale) (2.31.0)\n",
            "Requirement already satisfied: werkzeug<2.3 in /usr/local/lib/python3.10/dist-packages (from dtale) (2.2.3)\n",
            "Requirement already satisfied: matplotlib in /usr/local/lib/python3.10/dist-packages (from dtale) (3.7.1)\n",
            "Requirement already satisfied: scipy in /usr/local/lib/python3.10/dist-packages (from dtale) (1.11.3)\n",
            "Requirement already satisfied: dash-html-components==2.0.0 in /usr/local/lib/python3.10/dist-packages (from dash->dtale) (2.0.0)\n",
            "Requirement already satisfied: dash-core-components==2.0.0 in /usr/local/lib/python3.10/dist-packages (from dash->dtale) (2.0.0)\n",
            "Requirement already satisfied: dash-table==5.0.0 in /usr/local/lib/python3.10/dist-packages (from dash->dtale) (5.0.0)\n",
            "Requirement already satisfied: typing-extensions>=4.1.1 in /usr/local/lib/python3.10/dist-packages (from dash->dtale) (4.5.0)\n",
            "Requirement already satisfied: retrying in /usr/local/lib/python3.10/dist-packages (from dash->dtale) (1.3.4)\n",
            "Requirement already satisfied: ansi2html in /usr/local/lib/python3.10/dist-packages (from dash->dtale) (1.8.0)\n",
            "Requirement already satisfied: nest-asyncio in /usr/local/lib/python3.10/dist-packages (from dash->dtale) (1.5.8)\n",
            "Requirement already satisfied: setuptools in /usr/local/lib/python3.10/dist-packages (from dash->dtale) (67.7.2)\n",
            "Requirement already satisfied: importlib-metadata in /usr/local/lib/python3.10/dist-packages (from dash->dtale) (6.8.0)\n",
            "Requirement already satisfied: Jinja2>=3.0 in /usr/local/lib/python3.10/dist-packages (from Flask<2.3->dtale) (3.1.2)\n",
            "Requirement already satisfied: click>=8.0 in /usr/local/lib/python3.10/dist-packages (from Flask<2.3->dtale) (8.1.7)\n",
            "Requirement already satisfied: tenacity>=6.2.0 in /usr/local/lib/python3.10/dist-packages (from plotly->dtale) (8.2.3)\n",
            "Requirement already satisfied: packaging in /usr/local/lib/python3.10/dist-packages (from plotly->dtale) (23.2)\n",
            "Requirement already satisfied: MarkupSafe>=2.1.1 in /usr/local/lib/python3.10/dist-packages (from werkzeug<2.3->dtale) (2.1.3)\n",
            "Requirement already satisfied: soupsieve>1.2 in /usr/local/lib/python3.10/dist-packages (from beautifulsoup4->dtale) (2.5)\n",
            "Requirement already satisfied: brotli in /usr/local/lib/python3.10/dist-packages (from Flask-Compress->dtale) (1.1.0)\n",
            "Requirement already satisfied: contourpy>=1.0.1 in /usr/local/lib/python3.10/dist-packages (from matplotlib->dtale) (1.2.0)\n",
            "Requirement already satisfied: fonttools>=4.22.0 in /usr/local/lib/python3.10/dist-packages (from matplotlib->dtale) (4.44.3)\n",
            "Requirement already satisfied: kiwisolver>=1.0.1 in /usr/local/lib/python3.10/dist-packages (from matplotlib->dtale) (1.4.5)\n",
            "Requirement already satisfied: pillow>=6.2.0 in /usr/local/lib/python3.10/dist-packages (from matplotlib->dtale) (9.4.0)\n",
            "Requirement already satisfied: pyparsing>=2.3.1 in /usr/local/lib/python3.10/dist-packages (from matplotlib->dtale) (3.1.1)\n",
            "Requirement already satisfied: python-dateutil>=2.7 in /usr/local/lib/python3.10/dist-packages (from matplotlib->dtale) (2.8.2)\n",
            "Requirement already satisfied: pytz>=2020.1 in /usr/local/lib/python3.10/dist-packages (from pandas->dtale) (2023.3.post1)\n",
            "Requirement already satisfied: charset-normalizer<4,>=2 in /usr/local/lib/python3.10/dist-packages (from requests->dtale) (3.3.2)\n",
            "Requirement already satisfied: idna<4,>=2.5 in /usr/local/lib/python3.10/dist-packages (from requests->dtale) (3.4)\n",
            "Requirement already satisfied: urllib3<3,>=1.21.1 in /usr/local/lib/python3.10/dist-packages (from requests->dtale) (2.0.7)\n",
            "Requirement already satisfied: joblib>=1.1.1 in /usr/local/lib/python3.10/dist-packages (from scikit-learn->dtale) (1.3.2)\n",
            "Requirement already satisfied: threadpoolctl>=2.0.0 in /usr/local/lib/python3.10/dist-packages (from scikit-learn->dtale) (3.2.0)\n",
            "Requirement already satisfied: patsy>=0.5.2 in /usr/local/lib/python3.10/dist-packages (from statsmodels->dtale) (0.5.3)\n",
            "Requirement already satisfied: zipp>=0.5 in /usr/local/lib/python3.10/dist-packages (from importlib-metadata->dash->dtale) (3.17.0)\n",
            "['anagrams', 'anscombe', 'attention', 'brain_networks', 'car_crashes', 'diamonds', 'dots', 'dowjones', 'exercise', 'flights', 'fmri', 'geyser', 'glue', 'healthexp', 'iris', 'mpg', 'penguins', 'planets', 'seaice', 'taxis', 'tips', 'titanic']\n"
          ]
        },
        {
          "output_type": "stream",
          "name": "stderr",
          "text": [
            "/usr/local/lib/python3.10/dist-packages/dtale/views.py:785: FutureWarning:\n",
            "\n",
            "['embarked', 'class', 'deck', 'embark_town'] did not aggregate successfully. If any error is raised this will raise in a future version of pandas. Drop these columns/ops to avoid this warning.\n",
            "\n"
          ]
        },
        {
          "output_type": "execute_result",
          "data": {
            "text/plain": [
              "https://1kudw5pvdbt-496ff2e9c6d22116-40000-colab.googleusercontent.com/dtale/main/2"
            ]
          },
          "metadata": {},
          "execution_count": 20
        }
      ],
      "source": [
        "'#1.Step:Install d-tale'\n",
        "!pip install dtale\n",
        "\n",
        "'#2.Step:Load libs'\n",
        "import dtale.app as dtale_app\n",
        "import dtale\n",
        "dtale_app.USE_COLAB = True\n",
        "import seaborn as sns\n",
        "\n",
        "print(sns.get_dataset_names())\n",
        "'#3.Step:Load data set'\n",
        "data = sns.load_dataset('titanic')\n",
        "data\n",
        "'#4.Step: Show in d-tale'\n",
        "dtale.show(data)"
      ]
    },
    {
      "cell_type": "code",
      "source": [
        "D-TALE\n",
        "Correlations Scatter Code Export\n",
        "# DISCLAIMER: 'df' refers to the data you passed in when calling 'dtale.show'\n",
        "\n",
        "import pandas as pd\n",
        "\n",
        "if isinstance(df, (pd.DatetimeIndex, pd.MultiIndex)):\n",
        "\tdf = df.to_frame(index=False)\n",
        "\n",
        "# remove any pre-existing indices for ease of use in the D-Tale code, but this is not required\n",
        "df = df.reset_index().drop('index', axis=1, errors='ignore')\n",
        "df.columns = [str(c) for c in df.columns]  # update columns to strings in case they are numbers\n",
        "\n",
        "scatter_data = df\n",
        "scatter_data = scatter_data['survived', 'age'].dropna(how='any')\n",
        "scatter_data['_corr_index'] = scatter_data.index\n",
        "s0 = scatter_data['survived']\n",
        "s1 = scatter_data['age']\n",
        "pearson = s0.corr(s1, method='pearson')\n",
        "spearman = s0.corr(s1, method='spearman')\n",
        "\n",
        "import ppscore\n",
        "\n",
        "pps = ppscore.score(data, 'survived', 'age')\n",
        "only_in_s0 = len(scatter_data[scatter_data['survived'].isnull()])\n",
        "only_in_s1 = len(scatter_data[scatter_data['age'].isnull()])\n",
        "# DISCLAIMER: 'df' refers to the data you passed in when calling 'dtale.show'\n",
        "\n",
        "import pandas as pd\n",
        "\n",
        "if isinstance(df, (pd.DatetimeIndex, pd.MultiIndex)):\n",
        "\tdf = df.to_frame(index=False)\n",
        "\n",
        "# remove any pre-existing indices for ease of use in the D-Tale code, but this is not required\n",
        "df = df.reset_index().drop('index', axis=1, errors='ignore')\n",
        "df.columns = [str(c) for c in df.columns]  # update columns to strings in case they are numbers\n",
        "\n",
        "scatter_data = df\n",
        "scatter_data = scatter_data['survived', 'age'].dropna(how='any')\n",
        "scatter_data['_corr_index'] = scatter_data.index\n",
        "s0 = scatter_data['survived']\n",
        "s1 = scatter_data['age']\n",
        "pearson = s0.corr(s1, method='pearson')\n",
        "spearman = s0.corr(s1, method='spearman')\n",
        "\n",
        "import ppscore\n",
        "\n",
        "pps = ppscore.score(data, 'survived', 'age')\n",
        "only_in_s0 = len(scatter_data[scatter_data['survived'].isnull()])\n",
        "only_in_s1 = len(scatter_data[scatter_data['age'].isnull()])\n"
      ],
      "metadata": {
        "colab": {
          "base_uri": "https://localhost:8080/",
          "height": 254
        },
        "id": "y1GGJFzE4LfH",
        "outputId": "dc6d2d7b-96e4-4545-a54f-68942321311a"
      },
      "execution_count": 22,
      "outputs": [
        {
          "output_type": "error",
          "ename": "SyntaxError",
          "evalue": "ignored",
          "traceback": [
            "\u001b[0;31m---------------------------------------------------------------------------\u001b[0m",
            "\u001b[0;31mSyntaxError\u001b[0m                               Traceback (most recent call last)",
            "\u001b[0;32m/usr/local/lib/python3.10/dist-packages/IPython/core/compilerop.py\u001b[0m in \u001b[0;36mast_parse\u001b[0;34m(self, source, filename, symbol)\u001b[0m\n\u001b[1;32m     99\u001b[0m         \u001b[0mArguments\u001b[0m \u001b[0mare\u001b[0m \u001b[0mexactly\u001b[0m \u001b[0mthe\u001b[0m \u001b[0msame\u001b[0m \u001b[0;32mas\u001b[0m \u001b[0mast\u001b[0m\u001b[0;34m.\u001b[0m\u001b[0mparse\u001b[0m \u001b[0;34m(\u001b[0m\u001b[0;32min\u001b[0m \u001b[0mthe\u001b[0m \u001b[0mstandard\u001b[0m \u001b[0mlibrary\u001b[0m\u001b[0;34m)\u001b[0m\u001b[0;34m,\u001b[0m\u001b[0;34m\u001b[0m\u001b[0;34m\u001b[0m\u001b[0m\n\u001b[1;32m    100\u001b[0m         and are passed to the built-in compile function.\"\"\"\n\u001b[0;32m--> 101\u001b[0;31m         \u001b[0;32mreturn\u001b[0m \u001b[0mcompile\u001b[0m\u001b[0;34m(\u001b[0m\u001b[0msource\u001b[0m\u001b[0;34m,\u001b[0m \u001b[0mfilename\u001b[0m\u001b[0;34m,\u001b[0m \u001b[0msymbol\u001b[0m\u001b[0;34m,\u001b[0m \u001b[0mself\u001b[0m\u001b[0;34m.\u001b[0m\u001b[0mflags\u001b[0m \u001b[0;34m|\u001b[0m \u001b[0mPyCF_ONLY_AST\u001b[0m\u001b[0;34m,\u001b[0m \u001b[0;36m1\u001b[0m\u001b[0;34m)\u001b[0m\u001b[0;34m\u001b[0m\u001b[0;34m\u001b[0m\u001b[0m\n\u001b[0m\u001b[1;32m    102\u001b[0m \u001b[0;34m\u001b[0m\u001b[0m\n\u001b[1;32m    103\u001b[0m     \u001b[0;32mdef\u001b[0m \u001b[0mreset_compiler_flags\u001b[0m\u001b[0;34m(\u001b[0m\u001b[0mself\u001b[0m\u001b[0;34m)\u001b[0m\u001b[0;34m:\u001b[0m\u001b[0;34m\u001b[0m\u001b[0;34m\u001b[0m\u001b[0m\n",
            "\u001b[0;31mSyntaxError\u001b[0m: invalid syntax (<ipython-input-22-ef7e58801002>, line 2)"
          ]
        }
      ]
    },
    {
      "cell_type": "code",
      "source": [
        "#MISC\n",
        "\n",
        "{\n",
        "  \"feature_1\":{\n",
        "    \"note\":\"My thoughts\",\n",
        "    \"next_steps\":\" The tasks\",\n",
        "    \"missing\":\"% the amount of missing values\",\n",
        "    \"most_frequent\":{\"adult_male\":0.30},\n",
        "    \"unique\":2,\n",
        "    \"type\":\" Can be nominal, ordinal, interval, and ratio\",\n",
        "    \"estimated_importance\":\"Scale from 1-5 (1 not important, 5 very important)\"\n",
        "    },\n",
        " \"feature_2\":{\n",
        "    \"note\":\"My thoughts\",\n",
        "    \"next_steps\":\" The tasks\",\n",
        "    \"missing\":\"% the amount of missing values\",\n",
        "    \"most_frequent\":{\"adult_male\":0.30},\n",
        "    \"unique\":2,\n",
        "    \"type\":\" Can be nominal, ordinal, interval, and ratio\",\n",
        "    \"estimated_importance\":\"Scale from 1-5 (1 not important, 5 very important)\"\n",
        "  }\n",
        "}"
      ],
      "metadata": {
        "id": "Y04__sz6y5Fj"
      },
      "execution_count": null,
      "outputs": []
    }
  ]
}